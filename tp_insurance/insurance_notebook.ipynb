{
 "cells": [
  {
   "cell_type": "code",
   "execution_count": 2,
   "metadata": {},
   "outputs": [],
   "source": [
    "import math\n",
    "import pandas as pd\n",
    "import numpy as np\n",
    "import matplotlib.pyplot as plt\n",
    "import seaborn as sn\n",
    "from sklearn.model_selection import train_test_split \n",
    "from sklearn.linear_model import LinearRegression \n",
    "from sklearn.metrics import mean_squared_error\n",
    "import sklearn "
   ]
  },
  {
   "cell_type": "code",
   "execution_count": 3,
   "metadata": {},
   "outputs": [
    {
     "data": {
      "text/html": [
       "<div>\n",
       "<style scoped>\n",
       "    .dataframe tbody tr th:only-of-type {\n",
       "        vertical-align: middle;\n",
       "    }\n",
       "\n",
       "    .dataframe tbody tr th {\n",
       "        vertical-align: top;\n",
       "    }\n",
       "\n",
       "    .dataframe thead th {\n",
       "        text-align: right;\n",
       "    }\n",
       "</style>\n",
       "<table border=\"1\" class=\"dataframe\">\n",
       "  <thead>\n",
       "    <tr style=\"text-align: right;\">\n",
       "      <th></th>\n",
       "      <th>age</th>\n",
       "      <th>sex</th>\n",
       "      <th>bmi</th>\n",
       "      <th>children</th>\n",
       "      <th>smoker</th>\n",
       "      <th>region</th>\n",
       "      <th>charges</th>\n",
       "    </tr>\n",
       "  </thead>\n",
       "  <tbody>\n",
       "    <tr>\n",
       "      <th>0</th>\n",
       "      <td>19</td>\n",
       "      <td>female</td>\n",
       "      <td>27.900</td>\n",
       "      <td>0</td>\n",
       "      <td>yes</td>\n",
       "      <td>southwest</td>\n",
       "      <td>16884.92400</td>\n",
       "    </tr>\n",
       "    <tr>\n",
       "      <th>1</th>\n",
       "      <td>18</td>\n",
       "      <td>male</td>\n",
       "      <td>33.770</td>\n",
       "      <td>1</td>\n",
       "      <td>no</td>\n",
       "      <td>southeast</td>\n",
       "      <td>1725.55230</td>\n",
       "    </tr>\n",
       "    <tr>\n",
       "      <th>2</th>\n",
       "      <td>28</td>\n",
       "      <td>male</td>\n",
       "      <td>33.000</td>\n",
       "      <td>3</td>\n",
       "      <td>no</td>\n",
       "      <td>southeast</td>\n",
       "      <td>4449.46200</td>\n",
       "    </tr>\n",
       "    <tr>\n",
       "      <th>3</th>\n",
       "      <td>33</td>\n",
       "      <td>male</td>\n",
       "      <td>22.705</td>\n",
       "      <td>0</td>\n",
       "      <td>no</td>\n",
       "      <td>northwest</td>\n",
       "      <td>21984.47061</td>\n",
       "    </tr>\n",
       "    <tr>\n",
       "      <th>4</th>\n",
       "      <td>32</td>\n",
       "      <td>male</td>\n",
       "      <td>28.880</td>\n",
       "      <td>0</td>\n",
       "      <td>no</td>\n",
       "      <td>northwest</td>\n",
       "      <td>3866.85520</td>\n",
       "    </tr>\n",
       "  </tbody>\n",
       "</table>\n",
       "</div>"
      ],
      "text/plain": [
       "   age     sex     bmi  children smoker     region      charges\n",
       "0   19  female  27.900         0    yes  southwest  16884.92400\n",
       "1   18    male  33.770         1     no  southeast   1725.55230\n",
       "2   28    male  33.000         3     no  southeast   4449.46200\n",
       "3   33    male  22.705         0     no  northwest  21984.47061\n",
       "4   32    male  28.880         0     no  northwest   3866.85520"
      ]
     },
     "execution_count": 3,
     "metadata": {},
     "output_type": "execute_result"
    }
   ],
   "source": [
    "csv = pd.read_csv(\"insurance.csv\")\n",
    "dataset_insurance = pd.DataFrame(csv)\n",
    "dataset_insurance.head()"
   ]
  },
  {
   "cell_type": "markdown",
   "metadata": {},
   "source": [
    "Columns\n",
    "\n",
    "- age: age of primary beneficiary\n",
    "\n",
    "- sex: insurance contractor gender, female, male\n",
    "\n",
    "- bmi: Body mass index, providing an understanding of body, weights that are relatively high or low relative to height,\n",
    "objective index of body weight (kg / m ^ 2) using the ratio of height to weight, ideally 18.5 to 24.9\n",
    "\n",
    "- children: Number of children covered by health insurance / Number of dependents\n",
    "\n",
    "- smoker: Smoking\n",
    "\n",
    "- region: the beneficiary's residential area in the US, northeast, southeast, southwest, northwest.\n",
    "\n",
    "- charges: Individual medical costs billed by health insurance"
   ]
  },
  {
   "cell_type": "markdown",
   "metadata": {},
   "source": [
    "### Data Management"
   ]
  },
  {
   "cell_type": "code",
   "execution_count": 4,
   "metadata": {},
   "outputs": [
    {
     "data": {
      "text/plain": [
       "age           int64\n",
       "sex          object\n",
       "bmi         float64\n",
       "children      int64\n",
       "smoker       object\n",
       "region       object\n",
       "charges     float64\n",
       "dtype: object"
      ]
     },
     "execution_count": 4,
     "metadata": {},
     "output_type": "execute_result"
    }
   ],
   "source": [
    "dataset_insurance.dtypes"
   ]
  },
  {
   "cell_type": "markdown",
   "metadata": {},
   "source": [
    "On remarque que sex, smoker et region sont des objets, on va donc les transformer en données numériques <br>\n",
    "\n",
    "- Sex: male=0, female=1\n",
    "- Smoker: no=0, yes=1\n",
    "- Region: northeast=0, southeast=1, southwest=2, northwest=3"
   ]
  },
  {
   "cell_type": "code",
   "execution_count": 5,
   "metadata": {},
   "outputs": [
    {
     "name": "stdout",
     "output_type": "stream",
     "text": [
      "nombre de valeur colonne sex ['female' 'male']\n",
      "nombre de valeur colonne smoker ['yes' 'no']\n",
      "nombre de valeur colonne region ['southwest' 'southeast' 'northwest' 'northeast']\n"
     ]
    },
    {
     "data": {
      "text/html": [
       "<div>\n",
       "<style scoped>\n",
       "    .dataframe tbody tr th:only-of-type {\n",
       "        vertical-align: middle;\n",
       "    }\n",
       "\n",
       "    .dataframe tbody tr th {\n",
       "        vertical-align: top;\n",
       "    }\n",
       "\n",
       "    .dataframe thead th {\n",
       "        text-align: right;\n",
       "    }\n",
       "</style>\n",
       "<table border=\"1\" class=\"dataframe\">\n",
       "  <thead>\n",
       "    <tr style=\"text-align: right;\">\n",
       "      <th></th>\n",
       "      <th>age</th>\n",
       "      <th>sex</th>\n",
       "      <th>bmi</th>\n",
       "      <th>children</th>\n",
       "      <th>smoker</th>\n",
       "      <th>region</th>\n",
       "      <th>charges</th>\n",
       "    </tr>\n",
       "  </thead>\n",
       "  <tbody>\n",
       "    <tr>\n",
       "      <th>0</th>\n",
       "      <td>19</td>\n",
       "      <td>1</td>\n",
       "      <td>27.900</td>\n",
       "      <td>0</td>\n",
       "      <td>1</td>\n",
       "      <td>0</td>\n",
       "      <td>16884.92400</td>\n",
       "    </tr>\n",
       "    <tr>\n",
       "      <th>1</th>\n",
       "      <td>18</td>\n",
       "      <td>0</td>\n",
       "      <td>33.770</td>\n",
       "      <td>1</td>\n",
       "      <td>0</td>\n",
       "      <td>1</td>\n",
       "      <td>1725.55230</td>\n",
       "    </tr>\n",
       "    <tr>\n",
       "      <th>2</th>\n",
       "      <td>28</td>\n",
       "      <td>0</td>\n",
       "      <td>33.000</td>\n",
       "      <td>3</td>\n",
       "      <td>0</td>\n",
       "      <td>1</td>\n",
       "      <td>4449.46200</td>\n",
       "    </tr>\n",
       "    <tr>\n",
       "      <th>3</th>\n",
       "      <td>33</td>\n",
       "      <td>0</td>\n",
       "      <td>22.705</td>\n",
       "      <td>0</td>\n",
       "      <td>0</td>\n",
       "      <td>1</td>\n",
       "      <td>21984.47061</td>\n",
       "    </tr>\n",
       "    <tr>\n",
       "      <th>4</th>\n",
       "      <td>32</td>\n",
       "      <td>0</td>\n",
       "      <td>28.880</td>\n",
       "      <td>0</td>\n",
       "      <td>0</td>\n",
       "      <td>1</td>\n",
       "      <td>3866.85520</td>\n",
       "    </tr>\n",
       "  </tbody>\n",
       "</table>\n",
       "</div>"
      ],
      "text/plain": [
       "   age  sex     bmi  children  smoker  region      charges\n",
       "0   19    1  27.900         0       1       0  16884.92400\n",
       "1   18    0  33.770         1       0       1   1725.55230\n",
       "2   28    0  33.000         3       0       1   4449.46200\n",
       "3   33    0  22.705         0       0       1  21984.47061\n",
       "4   32    0  28.880         0       0       1   3866.85520"
      ]
     },
     "execution_count": 5,
     "metadata": {},
     "output_type": "execute_result"
    }
   ],
   "source": [
    "print(\"nombre de valeur colonne sex\",dataset_insurance['sex'].unique())\n",
    "print(\"nombre de valeur colonne smoker\",dataset_insurance['smoker'].unique())\n",
    "print(\"nombre de valeur colonne region\",dataset_insurance['region'].unique())\n",
    "\n",
    "dataset_insurance.isnull()\n",
    "\n",
    "dataset_insurance['sex']=dataset_insurance['sex'].replace('male',0)\n",
    "dataset_insurance['sex']=dataset_insurance['sex'].replace('female',1)\n",
    "\n",
    "dataset_insurance['smoker']=dataset_insurance['smoker'].replace('no',0)\n",
    "dataset_insurance['smoker']=dataset_insurance['smoker'].replace('yes',1)\n",
    "\n",
    "dataset_insurance['region']=dataset_insurance['region'].replace('northeast',0)\n",
    "dataset_insurance['region']=dataset_insurance['region'].replace('southeast',1)\n",
    "dataset_insurance['region']=dataset_insurance['region'].replace('southwest',0)\n",
    "dataset_insurance['region']=dataset_insurance['region'].replace('northwest',1)\n",
    "\n",
    "dataset_insurance.head()\n",
    "\n",
    "\n"
   ]
  },
  {
   "cell_type": "markdown",
   "metadata": {},
   "source": [
    "### Regression multiple"
   ]
  },
  {
   "cell_type": "code",
   "execution_count": 6,
   "metadata": {},
   "outputs": [],
   "source": [
    "# séparer les datasets ( training et test)\n",
    "X_train, X_test, y_train, y_test = train_test_split(dataset_insurance.drop(['charges'],axis=1),dataset_insurance['charges'], test_size=0.2, random_state= 0)"
   ]
  },
  {
   "cell_type": "code",
   "execution_count": 7,
   "metadata": {},
   "outputs": [
    {
     "name": "stdout",
     "output_type": "stream",
     "text": [
      "coefficients de regression: [ 2.54776907e+02  2.17798094e+01  3.22737384e+02  4.27477330e+02\n",
      "  2.36002895e+04 -1.91285985e+02]\n"
     ]
    }
   ],
   "source": [
    "# créer le modèle de régression multiple \n",
    "# entrainement du modèle de régression \n",
    "reg  = LinearRegression()\n",
    "reg.fit(X_train, y_train)\n",
    "# maintenant on passe à la prédiction, donc on applique notre modèle sur le dataset x_test \n",
    "y_predic = reg.predict(X_test)\n",
    "\n",
    "print(\"coefficients de regression:\",reg.coef_)"
   ]
  },
  {
   "cell_type": "code",
   "execution_count": 8,
   "metadata": {},
   "outputs": [
    {
     "name": "stdout",
     "output_type": "stream",
     "text": [
      "ecart type des residus (erreur de prédiction) 32149530.206277784\n"
     ]
    }
   ],
   "source": [
    "rmse_testData = mean_squared_error(y_test,y_predic)\n",
    "print(\"ecart type des residus (erreur de prédiction)\",rmse_testData) "
   ]
  },
  {
   "cell_type": "markdown",
   "metadata": {},
   "source": [
    "On remarque qu'on a une erreur de prédiction sur les données de test qui est assez élevé. <br>\n",
    "On peut regarder l'erreur sur les données d'entrainement afin de voir si le modèle n'a pas fait de l'overfitting."
   ]
  },
  {
   "cell_type": "code",
   "execution_count": 9,
   "metadata": {},
   "outputs": [
    {
     "name": "stdout",
     "output_type": "stream",
     "text": [
      "score : 0.7979668332906551\n",
      "ecart type des residus (erreur de prédiction) 6149.780912361591\n",
      "difference d'erreur entre les deux jeu de données 32143380.425365422\n"
     ]
    }
   ],
   "source": [
    "#\n",
    "y_predic_trainData = reg.predict(X_train)\n",
    "rmse_trainData =math.sqrt(mean_squared_error(y_train,y_predic_trainData))\n",
    "print(\"score :\",sklearn.metrics.r2_score(y_test, y_predic, multioutput='uniform_average', force_finite=True))\n",
    "print(\"ecart type des residus (erreur de prédiction)\",rmse_trainData) \n",
    "print(\"difference d'erreur entre les deux jeu de données\",abs(rmse_trainData - rmse_testData))"
   ]
  },
  {
   "cell_type": "markdown",
   "metadata": {},
   "source": [
    "On remarque qu'il y a une différence d'erreur qui n'est pas si important compte tenu de la valeur élevé des rmse. <br>\n",
    "Ainsi on peut dire qu'il n'y a pas de surapprentissage.\n",
    "On pourrait entrainer d'autre modèle afin de voir s'il n'y pas d'autre modèle encore moins en surapprenttisage."
   ]
  },
  {
   "cell_type": "markdown",
   "metadata": {},
   "source": [
    "Pour ce qui est du score, ce dernier n'est pas mauvais pour un premier entrainement mais il faudrait le tout de même l'améliorer pour une mise en production."
   ]
  },
  {
   "cell_type": "markdown",
   "metadata": {},
   "source": [
    "### Scalling"
   ]
  },
  {
   "cell_type": "markdown",
   "metadata": {},
   "source": [
    "On peut appliquer une méthode de scalling (normalisation entre de valeur), afin de réduire la différence d'interval entre chaque colonne. <br>\n",
    "Pour cela on reduit nos valeurs à un interval [0,1]"
   ]
  },
  {
   "cell_type": "code",
   "execution_count": 10,
   "metadata": {},
   "outputs": [
    {
     "name": "stderr",
     "output_type": "stream",
     "text": [
      "c:\\Users\\rayan\\AppData\\Local\\Programs\\Python\\Python310\\lib\\site-packages\\numpy\\core\\fromnumeric.py:84: FutureWarning: In a future version, DataFrame.min(axis=None) will return a scalar min over the entire DataFrame. To retain the old behavior, use 'frame.min(axis=0)' or just 'frame.min()'\n",
      "  return reduction(axis=axis, out=out, **passkwargs)\n",
      "c:\\Users\\rayan\\AppData\\Local\\Programs\\Python\\Python310\\lib\\site-packages\\numpy\\core\\fromnumeric.py:84: FutureWarning: In a future version, DataFrame.max(axis=None) will return a scalar max over the entire DataFrame. To retain the old behavior, use 'frame.max(axis=0)' or just 'frame.max()'\n",
      "  return reduction(axis=axis, out=out, **passkwargs)\n"
     ]
    },
    {
     "data": {
      "text/html": [
       "<div>\n",
       "<style scoped>\n",
       "    .dataframe tbody tr th:only-of-type {\n",
       "        vertical-align: middle;\n",
       "    }\n",
       "\n",
       "    .dataframe tbody tr th {\n",
       "        vertical-align: top;\n",
       "    }\n",
       "\n",
       "    .dataframe thead th {\n",
       "        text-align: right;\n",
       "    }\n",
       "</style>\n",
       "<table border=\"1\" class=\"dataframe\">\n",
       "  <thead>\n",
       "    <tr style=\"text-align: right;\">\n",
       "      <th></th>\n",
       "      <th>age</th>\n",
       "      <th>sex</th>\n",
       "      <th>bmi</th>\n",
       "      <th>children</th>\n",
       "      <th>smoker</th>\n",
       "      <th>region</th>\n",
       "      <th>charges</th>\n",
       "    </tr>\n",
       "  </thead>\n",
       "  <tbody>\n",
       "    <tr>\n",
       "      <th>0</th>\n",
       "      <td>0.021739</td>\n",
       "      <td>1.0</td>\n",
       "      <td>0.321227</td>\n",
       "      <td>0.0</td>\n",
       "      <td>1.0</td>\n",
       "      <td>0.0</td>\n",
       "      <td>0.251611</td>\n",
       "    </tr>\n",
       "    <tr>\n",
       "      <th>1</th>\n",
       "      <td>0.000000</td>\n",
       "      <td>0.0</td>\n",
       "      <td>0.479150</td>\n",
       "      <td>0.2</td>\n",
       "      <td>0.0</td>\n",
       "      <td>1.0</td>\n",
       "      <td>0.009636</td>\n",
       "    </tr>\n",
       "    <tr>\n",
       "      <th>2</th>\n",
       "      <td>0.217391</td>\n",
       "      <td>0.0</td>\n",
       "      <td>0.458434</td>\n",
       "      <td>0.6</td>\n",
       "      <td>0.0</td>\n",
       "      <td>1.0</td>\n",
       "      <td>0.053115</td>\n",
       "    </tr>\n",
       "    <tr>\n",
       "      <th>3</th>\n",
       "      <td>0.326087</td>\n",
       "      <td>0.0</td>\n",
       "      <td>0.181464</td>\n",
       "      <td>0.0</td>\n",
       "      <td>0.0</td>\n",
       "      <td>1.0</td>\n",
       "      <td>0.333010</td>\n",
       "    </tr>\n",
       "    <tr>\n",
       "      <th>4</th>\n",
       "      <td>0.304348</td>\n",
       "      <td>0.0</td>\n",
       "      <td>0.347592</td>\n",
       "      <td>0.0</td>\n",
       "      <td>0.0</td>\n",
       "      <td>1.0</td>\n",
       "      <td>0.043816</td>\n",
       "    </tr>\n",
       "  </tbody>\n",
       "</table>\n",
       "</div>"
      ],
      "text/plain": [
       "        age  sex       bmi  children  smoker  region   charges\n",
       "0  0.021739  1.0  0.321227       0.0     1.0     0.0  0.251611\n",
       "1  0.000000  0.0  0.479150       0.2     0.0     1.0  0.009636\n",
       "2  0.217391  0.0  0.458434       0.6     0.0     1.0  0.053115\n",
       "3  0.326087  0.0  0.181464       0.0     0.0     1.0  0.333010\n",
       "4  0.304348  0.0  0.347592       0.0     0.0     1.0  0.043816"
      ]
     },
     "execution_count": 10,
     "metadata": {},
     "output_type": "execute_result"
    }
   ],
   "source": [
    "dataset_insurance_normalized=(dataset_insurance-np.min(dataset_insurance))/(np.max(dataset_insurance)-np.min(dataset_insurance))\n",
    "dataset_insurance_normalized.head()"
   ]
  },
  {
   "cell_type": "markdown",
   "metadata": {},
   "source": [
    "### Regression multiple après Scalling"
   ]
  },
  {
   "cell_type": "code",
   "execution_count": 11,
   "metadata": {},
   "outputs": [
    {
     "name": "stdout",
     "output_type": "stream",
     "text": [
      "coefficients de regression: [ 1.87071161e-01  3.47650632e-04  1.91483247e-01  3.41170947e-02\n",
      "  3.76709245e-01 -3.05331843e-03]\n"
     ]
    }
   ],
   "source": [
    "# séparer les datasets ( training et test)\n",
    "X_train_normalized, X_test_normalized, y_train_normalized, y_test_normalized = train_test_split(dataset_insurance_normalized.drop(['charges'],axis=1),dataset_insurance_normalized['charges'], test_size=0.2, random_state= 0)\n",
    "\n",
    "reg.fit(X_train_normalized, y_train_normalized)\n",
    "# maintenant on passe à la prédiction, donc on applique notre modèle sur le dataset x_test \n",
    "y_predic_normalized = reg.predict(X_test_normalized)\n",
    "\n",
    "print(\"coefficients de regression:\",reg.coef_)"
   ]
  },
  {
   "cell_type": "code",
   "execution_count": 12,
   "metadata": {},
   "outputs": [
    {
     "name": "stdout",
     "output_type": "stream",
     "text": [
      "ecart type des residus (erreur de prédiction) 0.008191294242534976\n",
      "score : 0.7979668332906552\n"
     ]
    }
   ],
   "source": [
    "rmse_testData = mean_squared_error(y_test_normalized,y_predic_normalized)\n",
    "print(\"ecart type des residus (erreur de prédiction)\",rmse_testData) \n",
    "print(\"score :\",sklearn.metrics.r2_score(y_test_normalized, y_predic_normalized, multioutput='uniform_average', force_finite=True))\n"
   ]
  },
  {
   "cell_type": "markdown",
   "metadata": {},
   "source": [
    "On remarque que le score n'a pas énormement changé, ce qui veut dire que notre dataset n'était pas concerné par les problèmes que le scalling permet de résoudre. Autrement dit nos données devait être sensiblement à la même échelle."
   ]
  },
  {
   "cell_type": "markdown",
   "metadata": {},
   "source": [
    "### Modification des paramètres de la régréssion"
   ]
  },
  {
   "cell_type": "markdown",
   "metadata": {},
   "source": [
    "Ici nous allons modifier les différents paramètres de la Regression de sklearn afin de voir les repercutions que cela a sur les performances de notre modèle."
   ]
  },
  {
   "cell_type": "code",
   "execution_count": 13,
   "metadata": {},
   "outputs": [
    {
     "name": "stdout",
     "output_type": "stream",
     "text": [
      "ecart type des residus (erreur de prédiction) 0.008555721530239249\n",
      "coefficients de regression: [ 0.16818737 -0.01035973  0.12959621  0.01804181  0.36953964 -0.0104642 ]\n",
      "score : 0.7889784613935902\n"
     ]
    }
   ],
   "source": [
    "\n",
    "# créer le modèle de régression multiple \n",
    "# entrainement du modèle de régression \n",
    "reg  = LinearRegression(fit_intercept=False)\n",
    "reg.fit(X_train_normalized, y_train_normalized)\n",
    "# maintenant on passe à la prédiction, donc on applique notre modèle sur le dataset x_test \n",
    "y_predic_normalized = reg.predict(X_test_normalized)\n",
    "rmse_fitIntercept_false = mean_squared_error(y_test_normalized,y_predic_normalized)\n",
    "print(\"ecart type des residus (erreur de prédiction)\",rmse_fitIntercept_false) \n",
    "print(\"coefficients de regression:\",reg.coef_)\n",
    "print(\"score :\",sklearn.metrics.r2_score(y_test_normalized, y_predic_normalized, multioutput='uniform_average', force_finite=True))\n",
    "\n"
   ]
  },
  {
   "cell_type": "code",
   "execution_count": 14,
   "metadata": {},
   "outputs": [
    {
     "name": "stdout",
     "output_type": "stream",
     "text": [
      "ecart type des residus (erreur de prédiction) 0.008191294242534976\n",
      "coefficients de regression: [ 1.87071161e-01  3.47650632e-04  1.91483247e-01  3.41170947e-02\n",
      "  3.76709245e-01 -3.05331843e-03]\n",
      "score : 0.7979668332906552\n"
     ]
    }
   ],
   "source": [
    "# créer le modèle de régression multiple \n",
    "# entrainement du modèle de régression \n",
    "reg  = LinearRegression(n_jobs=20)\n",
    "reg.fit(X_train_normalized, y_train_normalized)\n",
    "# maintenant on passe à la prédiction, donc on applique notre modèle sur le dataset x_test \n",
    "y_predic_normalized = reg.predict(X_test_normalized)\n",
    "rmse_n_jobs = mean_squared_error(y_test_normalized,y_predic_normalized)\n",
    "print(\"ecart type des residus (erreur de prédiction)\",rmse_n_jobs) \n",
    "print(\"coefficients de regression:\",reg.coef_)\n",
    "print(\"score :\",sklearn.metrics.r2_score(y_test_normalized, y_predic_normalized, multioutput='uniform_average', force_finite=True))\n"
   ]
  },
  {
   "cell_type": "code",
   "execution_count": 15,
   "metadata": {},
   "outputs": [
    {
     "name": "stdout",
     "output_type": "stream",
     "text": [
      "ecart type des residus (erreur de prédiction) 0.008195446368939263\n",
      "coefficients de regression: [1.87199929e-01 3.74402785e-04 1.90270494e-01 3.43830273e-02\n",
      " 3.76529435e-01 0.00000000e+00]\n",
      "score : 0.7978644236809894\n"
     ]
    }
   ],
   "source": [
    "# créer le modèle de régression multiple \n",
    "# entrainement du modèle de régression \n",
    "reg  = LinearRegression(positive=True)\n",
    "reg.fit(X_train_normalized, y_train_normalized)\n",
    "# maintenant on passe à la prédiction, donc on applique notre modèle sur le dataset x_test \n",
    "y_predic_normalized = reg.predict(X_test_normalized)\n",
    "rmse_positive = mean_squared_error(y_test_normalized,y_predic_normalized)\n",
    "print(\"ecart type des residus (erreur de prédiction)\",rmse_positive) \n",
    "print(\"coefficients de regression:\",reg.coef_)\n",
    "print(\"score :\",sklearn.metrics.r2_score(y_test_normalized, y_predic_normalized, multioutput='uniform_average', force_finite=True))\n"
   ]
  },
  {
   "cell_type": "markdown",
   "metadata": {},
   "source": [
    "Ainsi en faisant varier les paramètres on remarque que les coefficients du modèle changent. <br>\n",
    "Cependant le score d'évaluation ne change pratiquement pas. <br>\n",
    "On peut en déduire que la variation des paramètres de la fonction LinearRegression n'a pas un impacte significatif sur la performance de nore modèle en sortie."
   ]
  },
  {
   "cell_type": "markdown",
   "metadata": {},
   "source": [
    "### Feature Selection"
   ]
  },
  {
   "cell_type": "code",
   "execution_count": 16,
   "metadata": {},
   "outputs": [],
   "source": [
    "import mlxtend \n",
    "from sklearn.ensemble import RandomForestRegressor\n",
    "from sklearn.feature_selection import SelectFromModel\n",
    "from mlxtend.feature_selection import SequentialFeatureSelector as SFS\n",
    "from sklearn.linear_model import LinearRegression"
   ]
  },
  {
   "cell_type": "markdown",
   "metadata": {},
   "source": [
    "#### Methode Filter"
   ]
  },
  {
   "cell_type": "code",
   "execution_count": 17,
   "metadata": {},
   "outputs": [],
   "source": [
    "#on regarde les corrélations pour chaque colone du dataset avec la sortie\n",
    "#@parameter: la matrice de feature, le vecteur de sortie\n",
    "#@return: le premier tableau est le score de corrélation avec la sortie, le deuxième est les P-values associés\n",
    "feature_selection_by_regression =sklearn.feature_selection.f_regression(dataset_insurance_normalized.drop(['charges'],axis=1),dataset_insurance_normalized['charges'])\n"
   ]
  },
  {
   "cell_type": "code",
   "execution_count": 18,
   "metadata": {},
   "outputs": [
    {
     "name": "stderr",
     "output_type": "stream",
     "text": [
      "No artists with labels found to put in legend.  Note that artists whose label start with an underscore are ignored when legend() is called with no argument.\n"
     ]
    },
    {
     "name": "stdout",
     "output_type": "stream",
     "text": [
      "[0 1 2 3 4 5]\n"
     ]
    },
    {
     "data": {
      "text/plain": [
       "<matplotlib.legend.Legend at 0x20cde936c80>"
      ]
     },
     "execution_count": 18,
     "metadata": {},
     "output_type": "execute_result"
    },
    {
     "data": {
      "image/png": "[encoded data removed]",
      "text/plain": [
       "<Figure size 640x480 with 1 Axes>"
      ]
     },
     "metadata": {},
     "output_type": "display_data"
    }
   ],
   "source": [
    "X = dataset_insurance_normalized.drop('charges',axis=1).columns.values\n",
    "\n",
    "X_axis = np.arange(len(X))\n",
    "print(X_axis)\n",
    "plt.bar(X_axis , feature_selection_by_regression[0], 0.4)\n",
    "  \n",
    "plt.xticks(X_axis, X)\n",
    "plt.xlabel(\"Features\")\n",
    "plt.ylabel(\"Score of correlation with the output\")\n",
    "plt.title(\"Correlation between Features and output\")\n",
    "plt.legend()"
   ]
  },
  {
   "cell_type": "markdown",
   "metadata": {},
   "source": [
    "On remarque qu'il y a une forte corrélation entre le facteur \"smoker\" et la sortie \"charges\". <br>\n",
    "Les deux autres sorties qui ont une corrélation intéressante avec la sortie sont le facteur \"age\" et \"bmi\"."
   ]
  },
  {
   "cell_type": "markdown",
   "metadata": {},
   "source": [
    "#### Methode Wrapper"
   ]
  },
  {
   "cell_type": "code",
   "execution_count": 19,
   "metadata": {},
   "outputs": [
    {
     "data": {
      "text/html": [
       "<div>\n",
       "<style scoped>\n",
       "    .dataframe tbody tr th:only-of-type {\n",
       "        vertical-align: middle;\n",
       "    }\n",
       "\n",
       "    .dataframe tbody tr th {\n",
       "        vertical-align: top;\n",
       "    }\n",
       "\n",
       "    .dataframe thead th {\n",
       "        text-align: right;\n",
       "    }\n",
       "</style>\n",
       "<table border=\"1\" class=\"dataframe\">\n",
       "  <thead>\n",
       "    <tr style=\"text-align: right;\">\n",
       "      <th></th>\n",
       "      <th>feature_idx</th>\n",
       "      <th>cv_scores</th>\n",
       "      <th>avg_score</th>\n",
       "      <th>feature_names</th>\n",
       "    </tr>\n",
       "  </thead>\n",
       "  <tbody>\n",
       "    <tr>\n",
       "      <th>1</th>\n",
       "      <td>(4,)</td>\n",
       "      <td>[0.6197648148218988]</td>\n",
       "      <td>0.619765</td>\n",
       "      <td>(smoker,)</td>\n",
       "    </tr>\n",
       "    <tr>\n",
       "      <th>2</th>\n",
       "      <td>(0, 4)</td>\n",
       "      <td>[0.7214008260577199]</td>\n",
       "      <td>0.721401</td>\n",
       "      <td>(age, smoker)</td>\n",
       "    </tr>\n",
       "    <tr>\n",
       "      <th>3</th>\n",
       "      <td>(0, 2, 4)</td>\n",
       "      <td>[0.7474771588119513]</td>\n",
       "      <td>0.747477</td>\n",
       "      <td>(age, bmi, smoker)</td>\n",
       "    </tr>\n",
       "    <tr>\n",
       "      <th>4</th>\n",
       "      <td>(0, 2, 3, 4)</td>\n",
       "      <td>[0.749694530346479]</td>\n",
       "      <td>0.749695</td>\n",
       "      <td>(age, bmi, children, smoker)</td>\n",
       "    </tr>\n",
       "    <tr>\n",
       "      <th>5</th>\n",
       "      <td>(0, 2, 3, 4, 5)</td>\n",
       "      <td>[0.7497680322910479]</td>\n",
       "      <td>0.749768</td>\n",
       "      <td>(age, bmi, children, smoker, region)</td>\n",
       "    </tr>\n",
       "    <tr>\n",
       "      <th>6</th>\n",
       "      <td>(0, 1, 2, 3, 4, 5)</td>\n",
       "      <td>[0.7497962726676124]</td>\n",
       "      <td>0.749796</td>\n",
       "      <td>(age, sex, bmi, children, smoker, region)</td>\n",
       "    </tr>\n",
       "  </tbody>\n",
       "</table>\n",
       "</div>"
      ],
      "text/plain": [
       "          feature_idx             cv_scores avg_score  \\\n",
       "1                (4,)  [0.6197648148218988]  0.619765   \n",
       "2              (0, 4)  [0.7214008260577199]  0.721401   \n",
       "3           (0, 2, 4)  [0.7474771588119513]  0.747477   \n",
       "4        (0, 2, 3, 4)   [0.749694530346479]  0.749695   \n",
       "5     (0, 2, 3, 4, 5)  [0.7497680322910479]  0.749768   \n",
       "6  (0, 1, 2, 3, 4, 5)  [0.7497962726676124]  0.749796   \n",
       "\n",
       "                               feature_names  \n",
       "1                                  (smoker,)  \n",
       "2                              (age, smoker)  \n",
       "3                         (age, bmi, smoker)  \n",
       "4               (age, bmi, children, smoker)  \n",
       "5       (age, bmi, children, smoker, region)  \n",
       "6  (age, sex, bmi, children, smoker, region)  "
      ]
     },
     "execution_count": 19,
     "metadata": {},
     "output_type": "execute_result"
    }
   ],
   "source": [
    "#On definit une sequence de selection de type forward (on part d'un vecteur nul)\n",
    "#@parametre: methode d'apprentissage, nombre de facteur souhaiter à la fin, \n",
    "#cette méthode va selectionner executer une selection de type wrapper sur les feature\n",
    "#tout en appliquant à chaque itération un algo de régression linéaire avec pour performance évaluée la mse des feature selectionnées\n",
    "sffs = SFS(LinearRegression(),\n",
    "           k_features=len(dataset_insurance_normalized.drop('charges',axis=1).columns.values),\n",
    "           forward=True,\n",
    "           floating=True,\n",
    "           scoring = 'r2', #mse normalisé \n",
    "           cv = 0)\n",
    "#entrainement du modèle et filtre sur notre dataset \n",
    "feature_names=dataset_insurance_normalized.drop('charges',axis=1).columns.values\n",
    "sffs.fit(dataset_insurance_normalized.drop(['charges'],axis=1),dataset_insurance_normalized['charges'])\n",
    "\n",
    "#Creation d'un dataframe pour les résultats \n",
    "df_SFFS_results = pd.DataFrame(sffs.subsets_).transpose()\n",
    "df_SFFS_results\n",
    "#la sortie nous montre pour chaque itération les features selectionnées ainsi que la performance du modele de ml entrainer (ici regression\n",
    "# linéaire)"
   ]
  },
  {
   "cell_type": "markdown",
   "metadata": {},
   "source": [
    "On remarque que les features ajoutés, s'ajoutent dans le même ordre que leur corrélation avec la sortie (cf methode filter au dessus). <br>\n",
    "Cependant on remarque que l'ajout du paramètre children augmente encore l'avg_score de manière intéressante ainsi on pourrait également ajouter ce facteur au modèle."
   ]
  },
  {
   "cell_type": "markdown",
   "metadata": {},
   "source": [
    "#### Methode Embedded"
   ]
  },
  {
   "cell_type": "code",
   "execution_count": 20,
   "metadata": {},
   "outputs": [
    {
     "name": "stdout",
     "output_type": "stream",
     "text": [
      "Index(['bmi', 'smoker'], dtype='object')\n"
     ]
    }
   ],
   "source": [
    "sel = SelectFromModel(RandomForestRegressor())\n",
    "sel.fit(dataset_insurance_normalized.drop(['charges'],axis=1), dataset_insurance_normalized['charges'])\n",
    "selected_feat= dataset_insurance_normalized.drop(['charges'],axis=1).columns[(sel.get_support())]\n",
    "print(selected_feat)"
   ]
  },
  {
   "cell_type": "markdown",
   "metadata": {},
   "source": [
    "On remarque que les paramètres selectionnées sont bmi et smoker. "
   ]
  },
  {
   "cell_type": "markdown",
   "metadata": {},
   "source": [
    "#### Conclusion"
   ]
  },
  {
   "cell_type": "markdown",
   "metadata": {},
   "source": [
    "Pour conclure, on peut choisir de selectionner les facteurs 'smoker', 'age', 'bmi' pour un premier modèle. <br> \n",
    "Il pourra être interressant d'ajouter le paramètre 'children' pour l'entrainement d'un second modèle et de comparer ce dernier avec le premier afin de selectionner le plus performant. "
   ]
  },
  {
   "cell_type": "markdown",
   "metadata": {},
   "source": [
    "#### Entrainement avec les features selectionnées"
   ]
  },
  {
   "cell_type": "code",
   "execution_count": 21,
   "metadata": {},
   "outputs": [
    {
     "name": "stdout",
     "output_type": "stream",
     "text": [
      "ecart type des residus (erreur de prédiction) 0.008329824105641861\n",
      "coefficients de regression: [0.18873334 0.19095081 0.37710742]\n",
      "score : 0.7945500805653087\n"
     ]
    }
   ],
   "source": [
    "X_train_normalized_fs = X_train_normalized.drop(['sex','children','region'],axis=1)\n",
    "X_test_normalized_fs = X_test_normalized.drop(['sex','children','region'],axis=1)\n",
    "reg  = LinearRegression()\n",
    "reg.fit(X_train_normalized_fs, y_train_normalized)\n",
    "# maintenant on passe à la prédiction, donc on applique notre modèle sur le dataset x_test \n",
    "y_predic_normalized = reg.predict(X_test_normalized_fs)\n",
    "rmse_positive = mean_squared_error(y_test_normalized,y_predic_normalized)\n",
    "print(\"ecart type des residus (erreur de prédiction)\",rmse_positive) \n",
    "print(\"coefficients de regression:\",reg.coef_)\n",
    "print(\"score :\",sklearn.metrics.r2_score(y_test_normalized, y_predic_normalized, multioutput='uniform_average', force_finite=True))"
   ]
  },
  {
   "cell_type": "markdown",
   "metadata": {},
   "source": [
    "On remarque que notre modèle a un score similaire aux modèles précedents. <br>\n",
    "Ainsi on peut en déduire qu'il n'est pas nécéssaire de garder les facteurs 'sex', 'children' et 'region' pour l'entrainement. <br>\n",
    "Cela permet sur des jeux de données avec beaucoup de facteurs, de réduire le nombre de ces derniers utilisés afin de gagner en temps de calcul ainsi que de réduire la complexité du modèle."
   ]
  },
  {
   "cell_type": "markdown",
   "metadata": {},
   "source": [
    "### Regression Linéaire Ridge"
   ]
  },
  {
   "cell_type": "markdown",
   "metadata": {},
   "source": [
    "La méthode ridge applique une valeur alpha de type float à la régréssion afin de réduire ses paramètres. <br>\n",
    "Cela permet de ne pas avoir un modèle avec des coefficients trop grands et un écart trop important entre eux."
   ]
  },
  {
   "cell_type": "code",
   "execution_count": 22,
   "metadata": {},
   "outputs": [],
   "source": [
    "from sklearn.linear_model import Ridge"
   ]
  },
  {
   "cell_type": "code",
   "execution_count": 23,
   "metadata": {},
   "outputs": [
    {
     "data": {
      "text/html": [
       "<div>\n",
       "<style scoped>\n",
       "    .dataframe tbody tr th:only-of-type {\n",
       "        vertical-align: middle;\n",
       "    }\n",
       "\n",
       "    .dataframe tbody tr th {\n",
       "        vertical-align: top;\n",
       "    }\n",
       "\n",
       "    .dataframe thead th {\n",
       "        text-align: right;\n",
       "    }\n",
       "</style>\n",
       "<table border=\"1\" class=\"dataframe\">\n",
       "  <thead>\n",
       "    <tr style=\"text-align: right;\">\n",
       "      <th></th>\n",
       "      <th>age</th>\n",
       "      <th>sex</th>\n",
       "      <th>bmi</th>\n",
       "      <th>children</th>\n",
       "      <th>smoker</th>\n",
       "      <th>region</th>\n",
       "    </tr>\n",
       "  </thead>\n",
       "  <tbody>\n",
       "    <tr>\n",
       "      <th>621</th>\n",
       "      <td>0.413043</td>\n",
       "      <td>0.0</td>\n",
       "      <td>0.488028</td>\n",
       "      <td>0.8</td>\n",
       "      <td>1.0</td>\n",
       "      <td>0.0</td>\n",
       "    </tr>\n",
       "    <tr>\n",
       "      <th>194</th>\n",
       "      <td>0.000000</td>\n",
       "      <td>0.0</td>\n",
       "      <td>0.496906</td>\n",
       "      <td>0.0</td>\n",
       "      <td>0.0</td>\n",
       "      <td>1.0</td>\n",
       "    </tr>\n",
       "    <tr>\n",
       "      <th>240</th>\n",
       "      <td>0.108696</td>\n",
       "      <td>1.0</td>\n",
       "      <td>0.557170</td>\n",
       "      <td>0.4</td>\n",
       "      <td>1.0</td>\n",
       "      <td>0.0</td>\n",
       "    </tr>\n",
       "    <tr>\n",
       "      <th>1168</th>\n",
       "      <td>0.304348</td>\n",
       "      <td>0.0</td>\n",
       "      <td>0.517622</td>\n",
       "      <td>0.4</td>\n",
       "      <td>0.0</td>\n",
       "      <td>0.0</td>\n",
       "    </tr>\n",
       "    <tr>\n",
       "      <th>1192</th>\n",
       "      <td>0.869565</td>\n",
       "      <td>1.0</td>\n",
       "      <td>0.442158</td>\n",
       "      <td>0.2</td>\n",
       "      <td>0.0</td>\n",
       "      <td>0.0</td>\n",
       "    </tr>\n",
       "  </tbody>\n",
       "</table>\n",
       "</div>"
      ],
      "text/plain": [
       "           age  sex       bmi  children  smoker  region\n",
       "621   0.413043  0.0  0.488028       0.8     1.0     0.0\n",
       "194   0.000000  0.0  0.496906       0.0     0.0     1.0\n",
       "240   0.108696  1.0  0.557170       0.4     1.0     0.0\n",
       "1168  0.304348  0.0  0.517622       0.4     0.0     0.0\n",
       "1192  0.869565  1.0  0.442158       0.2     0.0     0.0"
      ]
     },
     "execution_count": 23,
     "metadata": {},
     "output_type": "execute_result"
    }
   ],
   "source": [
    "X_train_normalized.head()"
   ]
  },
  {
   "cell_type": "code",
   "execution_count": 24,
   "metadata": {},
   "outputs": [
    {
     "name": "stdout",
     "output_type": "stream",
     "text": [
      "ecart type des residus (erreur de prédiction) 0.008306895013062403\n",
      "coefficients de regression: [ 1.80405475e-01 -2.35009435e-04  1.68048544e-01  3.31703011e-02\n",
      "  3.67308842e-01 -1.77467686e-03]\n",
      "score : 0.7951156123416604\n"
     ]
    }
   ],
   "source": [
    "reg_ridge = Ridge(alpha=4.2)\n",
    "reg_ridge.fit(X_train_normalized, y_train_normalized)\n",
    "# maintenant on passe à la prédiction, donc on applique notre modèle sur le dataset x_test \n",
    "y_predic_normalized = reg_ridge.predict(X_test_normalized)\n",
    "rmse_positive = mean_squared_error(y_test_normalized,y_predic_normalized)\n",
    "print(\"ecart type des residus (erreur de prédiction)\",rmse_positive) \n",
    "print(\"coefficients de regression:\",reg_ridge.coef_)\n",
    "print(\"score :\",sklearn.metrics.r2_score(y_test_normalized, y_predic_normalized, multioutput='uniform_average', force_finite=True))"
   ]
  },
  {
   "cell_type": "markdown",
   "metadata": {},
   "source": [
    "On remarque que nos coefficients n'ont pas les mêmes valeurs, cependant le score du modèle lors du test a pratiquement la même valeur."
   ]
  },
  {
   "cell_type": "markdown",
   "metadata": {},
   "source": [
    "### Regression Lasso"
   ]
  },
  {
   "cell_type": "code",
   "execution_count": 25,
   "metadata": {},
   "outputs": [],
   "source": [
    "from sklearn.linear_model import Lasso\n"
   ]
  },
  {
   "cell_type": "code",
   "execution_count": 31,
   "metadata": {},
   "outputs": [
    {
     "name": "stdout",
     "output_type": "stream",
     "text": [
      "ecart type des residus (erreur de prédiction) 0.04057475105430419\n",
      "coefficients de regression: [ 0. -0.  0.  0.  0.  0.]\n",
      "score : -0.0007509437736328284\n"
     ]
    }
   ],
   "source": [
    "reg_lasso = Lasso(alpha=4.2)\n",
    "reg_lasso.fit(X_train_normalized, y_train_normalized)\n",
    "# maintenant on passe à la prédiction, donc on applique notre modèle sur le dataset x_test \n",
    "y_predic_normalized = reg_lasso.predict(X_test_normalized)\n",
    "rmse_positive = mean_squared_error(y_test_normalized,y_predic_normalized)\n",
    "print(\"ecart type des residus (erreur de prédiction)\",rmse_positive) \n",
    "print(\"coefficients de regression:\",reg_lasso.coef_)\n",
    "print(\"score :\",sklearn.metrics.r2_score(y_test_normalized, y_predic_normalized, multioutput='uniform_average', force_finite=True))"
   ]
  },
  {
   "cell_type": "markdown",
   "metadata": {},
   "source": [
    "On remarque que les coefficients ont des valeurs nulles. <br>\n",
    "On remarque également que nous avons un score bien plus faible dans le cas de la regession de Lasso."
   ]
  },
  {
   "cell_type": "code",
   "execution_count": 32,
   "metadata": {},
   "outputs": [
    {
     "name": "stdout",
     "output_type": "stream",
     "text": [
      "ecart type des residus (erreur de prédiction) 0.00835481115633762\n",
      "coefficients de regression: [ 0.17889236 -0.          0.1559625   0.01863117  0.37000772 -0.        ]\n",
      "score : 0.7939337905347813\n"
     ]
    }
   ],
   "source": [
    "reg_lasso = Lasso(alpha=0.001)\n",
    "reg_lasso.fit(X_train_normalized, y_train_normalized)\n",
    "# maintenant on passe à la prédiction, donc on applique notre modèle sur le dataset x_test \n",
    "y_predic_normalized = reg_lasso.predict(X_test_normalized)\n",
    "rmse_positive = mean_squared_error(y_test_normalized,y_predic_normalized)\n",
    "print(\"ecart type des residus (erreur de prédiction)\",rmse_positive) \n",
    "print(\"coefficients de regression:\",reg_lasso.coef_)\n",
    "print(\"score :\",sklearn.metrics.r2_score(y_test_normalized, y_predic_normalized, multioutput='uniform_average', force_finite=True))"
   ]
  },
  {
   "cell_type": "markdown",
   "metadata": {},
   "source": [
    "On remarque lorsque le coefficient alpha est très faible, les coefficient du modèle ne sont plus égaux à 0, ainsi on peut donc en déduire que la méthode Lasso réduit encore plus les coefficients que la regression de Ridge. <br>\n",
    "Ici nous avions des coefficients assez faible de base c'est donc pourquoi la méthode de Lasso à fait que nos coefficients étaient égale à 0."
   ]
  },
  {
   "cell_type": "markdown",
   "metadata": {},
   "source": [
    "### ElasticNet"
   ]
  },
  {
   "cell_type": "code",
   "execution_count": 27,
   "metadata": {},
   "outputs": [],
   "source": [
    "from sklearn.linear_model import ElasticNet"
   ]
  },
  {
   "cell_type": "code",
   "execution_count": 28,
   "metadata": {},
   "outputs": [
    {
     "name": "stdout",
     "output_type": "stream",
     "text": [
      "ecart type des residus (erreur de prédiction) 0.04057475105430419\n",
      "coefficients de regression: [ 0. -0.  0.  0.  0.  0.]\n",
      "score : -0.0007509437736328284\n"
     ]
    }
   ],
   "source": [
    "reg_elasticNet = ElasticNet(alpha=4.2)\n",
    "reg_elasticNet.fit(X_train_normalized, y_train_normalized)\n",
    "# maintenant on passe à la prédiction, donc on applique notre modèle sur le dataset x_test \n",
    "y_predic_normalized = reg_elasticNet.predict(X_test_normalized)\n",
    "rmse_positive = mean_squared_error(y_test_normalized,y_predic_normalized)\n",
    "print(\"ecart type des residus (erreur de prédiction)\",rmse_positive) \n",
    "print(\"coefficients de regression:\",reg_elasticNet.coef_)\n",
    "print(\"score :\",sklearn.metrics.r2_score(y_test_normalized, y_predic_normalized, multioutput='uniform_average', force_finite=True))"
   ]
  },
  {
   "cell_type": "markdown",
   "metadata": {},
   "source": [
    "On remarque que les coefficients ont des valeurs nulles. <br>\n",
    "On remarque également que nous avons un score bien plus faible dans le cas de la regession de Lasso."
   ]
  },
  {
   "cell_type": "code",
   "execution_count": 33,
   "metadata": {},
   "outputs": [
    {
     "name": "stdout",
     "output_type": "stream",
     "text": [
      "ecart type des residus (erreur de prédiction) 0.008276138395852027\n",
      "coefficients de regression: [ 1.82176151e-01 -0.00000000e+00  1.70213742e-01  2.64105022e-02\n",
      "  3.72067956e-01 -1.76500733e-04]\n",
      "score : 0.7958742051339951\n"
     ]
    }
   ],
   "source": [
    "reg_elasticNet = ElasticNet(alpha=0.001)\n",
    "reg_elasticNet.fit(X_train_normalized, y_train_normalized)\n",
    "# maintenant on passe à la prédiction, donc on applique notre modèle sur le dataset x_test \n",
    "y_predic_normalized = reg_elasticNet.predict(X_test_normalized)\n",
    "rmse_positive = mean_squared_error(y_test_normalized,y_predic_normalized)\n",
    "print(\"ecart type des residus (erreur de prédiction)\",rmse_positive) \n",
    "print(\"coefficients de regression:\",reg_elasticNet.coef_)\n",
    "print(\"score :\",sklearn.metrics.r2_score(y_test_normalized, y_predic_normalized, multioutput='uniform_average', force_finite=True))"
   ]
  },
  {
   "cell_type": "markdown",
   "metadata": {},
   "source": [
    "Ici on remarque que comme pour la regression de Lasso, la regression ElasticNet réduit plus facilement les coefficients que Ridge. "
   ]
  },
  {
   "cell_type": "markdown",
   "metadata": {},
   "source": [
    "### Conclusion"
   ]
  },
  {
   "cell_type": "markdown",
   "metadata": {},
   "source": [
    "Ainsi on peut conclure que la regression de Ridge s'appliquera lorsque l'on veut réduire des coefficients qui sont de petite/moyenne taille. <br>\n",
    "Tandis que les regressions de Lasso et ElasticNet seront utilisées afin de réduire des coefficients de grandes tailles."
   ]
  }
 ],
 "metadata": {
  "kernelspec": {
   "display_name": "Python 3",
   "language": "python",
   "name": "python3"
  },
  "language_info": {
   "codemirror_mode": {
    "name": "ipython",
    "version": 3
   },
   "file_extension": ".py",
   "mimetype": "text/x-python",
   "name": "python",
   "nbconvert_exporter": "python",
   "pygments_lexer": "ipython3",
   "version": "3.10.8 (tags/v3.10.8:aaaf517, Oct 11 2022, 16:50:30) [MSC v.1933 64 bit (AMD64)]"
  },
  "orig_nbformat": 4,
  "vscode": {
   "interpreter": {
    "hash": "334657c8e52fd71d95571d4aa266536ecfae8b05cb25ba6557c72dcb65d7c56a"
   }
  }
 },
 "nbformat": 4,
 "nbformat_minor": 2
}
